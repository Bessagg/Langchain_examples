{
 "cells": [
  {
   "cell_type": "code",
   "execution_count": 3,
   "id": "initial_id",
   "metadata": {
    "ExecuteTime": {
     "end_time": "2025-03-09T04:13:02.194426Z",
     "start_time": "2025-03-09T04:13:01.181229Z"
    },
    "collapsed": true
   },
   "outputs": [],
   "source": [
    "from sqlalchemy import create_engine, inspect\n",
    "import pandas as pd\n",
    "import os\n",
    "from dotenv import load_dotenv\n",
    "import pandas as pd\n",
    "pd.set_option('display.width', 0)\n",
    "pd.set_option('display.max_columns', None)\n",
    "pd.set_option('display.expand_frame_repr', False)\n",
    "\n",
    "\n",
    "# Load environment variables\n",
    "load_dotenv()\n",
    "\n",
    "# PostgreSQL connection details\n",
    "PG_HOST = os.getenv(\"PG_HOST\")\n",
    "PG_PORT = os.getenv(\"PG_PORT\")\n",
    "PG_USER = os.getenv(\"PG_USER\")\n",
    "PG_PASSWORD = os.getenv(\"PG_PASSWORD\")\n",
    "PG_DB = os.getenv(\"PG_DB\")\n",
    "# Create SQLAlchemy engine\n",
    "engine = create_engine(f\"postgresql+psycopg2://{PG_USER}:{PG_PASSWORD}@{PG_HOST}:{PG_PORT}/{PG_DB}\")\n"
   ]
  },
  {
   "cell_type": "code",
   "execution_count": 4,
   "id": "7aacda8c955f9920",
   "metadata": {
    "ExecuteTime": {
     "end_time": "2025-03-09T04:13:15.282852Z",
     "start_time": "2025-03-09T04:13:15.068861Z"
    }
   },
   "outputs": [
    {
     "name": "stdout",
     "output_type": "stream",
     "text": [
      "Table: radiology_detail\n",
      "          note_id  subject_id field_name       field_value  field_ordinal\n",
      "0  10000032-RR-14    10000032  exam_code               C11              1\n",
      "1  10000032-RR-14    10000032  exam_name  CHEST (PA & LAT)              1\n",
      "2  10000032-RR-15    10000032  exam_code              U314              1\n",
      "3  10000032-RR-15    10000032  exam_code              U644              3\n",
      "4  10000032-RR-15    10000032  exam_code               W82              2\n",
      "\n",
      "==================================================\n",
      "\n",
      "Table: radiology\n",
      "          note_id  subject_id     hadm_id note_type  note_seq            charttime            storetime                                               text\n",
      "0  10000032-RR-14    10000032  22595853.0        RR        14  2180-05-06 21:19:00  2180-05-06 23:32:00  EXAMINATION:  CHEST (PA AND LAT)  INDICATION: ...\n",
      "1  10000032-RR-15    10000032  22595853.0        RR        15  2180-05-06 23:00:00  2180-05-06 23:26:00  EXAMINATION:  LIVER OR GALLBLADDER US (SINGLE ...\n",
      "2  10000032-RR-16    10000032  22595853.0        RR        16  2180-05-07 09:55:00  2180-05-07 11:15:00  INDICATION:  ___ HCV cirrhosis c/b ascites, hi...\n",
      "3  10000032-RR-18    10000032         NaN        RR        18  2180-06-03 12:46:00  2180-06-03 14:01:00  EXAMINATION:  Ultrasound-guided paracentesis. ...\n",
      "4  10000032-RR-20    10000032         NaN        RR        20  2180-07-08 13:18:00  2180-07-08 14:15:00  EXAMINATION:  Paracentesis  INDICATION:  ___ y...\n",
      "\n",
      "==================================================\n",
      "\n",
      "Table: discharge\n",
      "Empty DataFrame\n",
      "Columns: [note_id, subject_id, hadm_id, note_type, note_seq, charttime, storetime, text]\n",
      "Index: []\n",
      "\n",
      "==================================================\n",
      "\n"
     ]
    }
   ],
   "source": [
    "def print_tables_head():\n",
    "    # Create an inspector to access metadata\n",
    "    inspector = inspect(engine)\n",
    "\n",
    "    # Get all table names from the database\n",
    "    tables = inspector.get_table_names()\n",
    "\n",
    "    # Print the head of each table\n",
    "    for table_name in tables:\n",
    "        print(f\"Table: {table_name}\")\n",
    "        try:\n",
    "            # Load the first few rows of the table\n",
    "            df = pd.read_sql(f\"SELECT * FROM {table_name} LIMIT 5\", engine)\n",
    "            print(df.head())  # Display the first 5 rows of the table\n",
    "        except Exception as e:\n",
    "            print(f\"Error fetching data for {table_name}: {str(e)}\")\n",
    "        print(\"\\n\" + \"=\"*50 + \"\\n\")\n",
    "print_tables_head()"
   ]
  },
  {
   "cell_type": "code",
   "execution_count": null,
   "id": "86482588ab6654bc",
   "metadata": {},
   "outputs": [],
   "source": []
  }
 ],
 "metadata": {
  "kernelspec": {
   "display_name": "default",
   "language": "python",
   "name": "python3"
  },
  "language_info": {
   "codemirror_mode": {
    "name": "ipython",
    "version": 3
   },
   "file_extension": ".py",
   "mimetype": "text/x-python",
   "name": "python",
   "nbconvert_exporter": "python",
   "pygments_lexer": "ipython3",
   "version": "3.12.8"
  }
 },
 "nbformat": 4,
 "nbformat_minor": 5
}
