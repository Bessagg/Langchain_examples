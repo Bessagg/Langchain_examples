{
 "cells": [
  {
   "cell_type": "code",
   "id": "initial_id",
   "metadata": {
    "collapsed": true,
    "ExecuteTime": {
     "end_time": "2025-03-09T04:13:02.194426Z",
     "start_time": "2025-03-09T04:13:01.181229Z"
    }
   },
   "source": [
    "from sqlalchemy import create_engine, inspect\n",
    "import pandas as pd\n",
    "import os\n",
    "from dotenv import load_dotenv\n",
    "\n",
    "# Load environment variables\n",
    "load_dotenv()\n",
    "\n",
    "# PostgreSQL connection details\n",
    "PG_HOST = os.getenv(\"PG_HOST\")\n",
    "PG_PORT = os.getenv(\"PG_PORT\")\n",
    "PG_USER = os.getenv(\"PG_USER\")\n",
    "PG_PASSWORD = os.getenv(\"PG_PASSWORD\")\n",
    "PG_DB = os.getenv(\"PG_DB\")\n",
    "# Create SQLAlchemy engine\n",
    "engine = create_engine(f\"postgresql+psycopg2://{PG_USER}:{PG_PASSWORD}@{PG_HOST}:{PG_PORT}/{PG_DB}\")\n"
   ],
   "outputs": [],
   "execution_count": 1
  },
  {
   "metadata": {
    "ExecuteTime": {
     "end_time": "2025-03-09T04:13:15.282852Z",
     "start_time": "2025-03-09T04:13:15.068861Z"
    }
   },
   "cell_type": "code",
   "source": [
    "def print_tables_head():\n",
    "    # Create an inspector to access metadata\n",
    "    inspector = inspect(engine)\n",
    "\n",
    "    # Get all table names from the database\n",
    "    tables = inspector.get_table_names()\n",
    "\n",
    "    # Print the head of each table\n",
    "    for table_name in tables:\n",
    "        print(f\"Table: {table_name}\")\n",
    "        try:\n",
    "            # Load the first few rows of the table\n",
    "            df = pd.read_sql(f\"SELECT * FROM {table_name} LIMIT 5\", engine)\n",
    "            print(df.head())  # Display the first 5 rows of the table\n",
    "        except Exception as e:\n",
    "            print(f\"Error fetching data for {table_name}: {str(e)}\")\n",
    "        print(\"\\n\" + \"=\"*50 + \"\\n\")\n",
    "print_tables_head()"
   ],
   "id": "7aacda8c955f9920",
   "outputs": [
    {
     "name": "stdout",
     "output_type": "stream",
     "text": [
      "Table: discharge\n",
      "          note_id subject_id   hadm_id note_type note_seq  \\\n",
      "0  10000032-DS-21   10000032  22595853        DS       21   \n",
      "1  10000032-DS-22   10000032  22841357        DS       22   \n",
      "2  10000032-DS-23   10000032  29079034        DS       23   \n",
      "3  10000032-DS-24   10000032  25742920        DS       24   \n",
      "4  10000084-DS-17   10000084  23052089        DS       17   \n",
      "\n",
      "             charttime            storetime  \\\n",
      "0  2180-05-07 00:00:00  2180-05-09 15:26:00   \n",
      "1  2180-06-27 00:00:00  2180-07-01 10:15:00   \n",
      "2  2180-07-25 00:00:00  2180-07-25 21:42:00   \n",
      "3  2180-08-07 00:00:00  2180-08-10 05:43:00   \n",
      "4  2160-11-25 00:00:00  2160-11-25 15:09:00   \n",
      "\n",
      "                                                text  \n",
      "0    Name:  ___                     Unit No:   __...  \n",
      "1    Name:  ___                     Unit No:   __...  \n",
      "2    Name:  ___                     Unit No:   __...  \n",
      "3    Name:  ___                     Unit No:   __...  \n",
      "4    Name:  ___                    Unit No:   ___...  \n",
      "\n",
      "==================================================\n",
      "\n",
      "Table: radiology_detail\n",
      "          note_id  subject_id field_name       field_value  field_ordinal\n",
      "0  10000032-RR-14    10000032  exam_code               C11              1\n",
      "1  10000032-RR-14    10000032  exam_name  CHEST (PA & LAT)              1\n",
      "2  10000032-RR-15    10000032  exam_code              U314              1\n",
      "3  10000032-RR-15    10000032  exam_code              U644              3\n",
      "4  10000032-RR-15    10000032  exam_code               W82              2\n",
      "\n",
      "==================================================\n",
      "\n",
      "Table: radiology\n",
      "          note_id  subject_id   hadm_id note_type  note_seq  \\\n",
      "0  10000935-RR-82    10000935  25849114        RR        82   \n",
      "1  10000935-RR-85    10000935  25849114        RR        85   \n",
      "2  10000935-RR-86    10000935  25849114        RR        86   \n",
      "3  10000935-RR-87    10000935  25849114        RR        87   \n",
      "4  10000935-RR-88    10000935  25849114        RR        88   \n",
      "\n",
      "             charttime            storetime  \\\n",
      "0  2187-10-14 10:45:00  2187-10-14 11:47:00   \n",
      "1  2187-10-16 12:24:00  2187-10-16 17:29:00   \n",
      "2  2187-10-17 16:53:00  2187-10-18 10:25:00   \n",
      "3  2187-10-17 16:40:00  2187-10-17 21:29:00   \n",
      "4  2187-10-19 14:08:00  2187-10-19 16:43:00   \n",
      "\n",
      "                                                text  \n",
      "0  HISTORY:  ___ year old woman with probable mal...  \n",
      "1  HISTORY:  Leukocytosis, low-grade temperature,...  \n",
      "2  INDICATION:  Metastatic colon cancer with left...  \n",
      "3  HISTORY:  Newly diagnosed metastatic colon can...  \n",
      "4  PORTABLE SUPINE ABDOMEN, ___\\n\\nCOMPARISON:  R...  \n",
      "\n",
      "==================================================\n",
      "\n"
     ]
    }
   ],
   "execution_count": 3
  },
  {
   "metadata": {},
   "cell_type": "code",
   "outputs": [],
   "execution_count": null,
   "source": "",
   "id": "86482588ab6654bc"
  }
 ],
 "metadata": {
  "kernelspec": {
   "display_name": "Python 3",
   "language": "python",
   "name": "python3"
  },
  "language_info": {
   "codemirror_mode": {
    "name": "ipython",
    "version": 2
   },
   "file_extension": ".py",
   "mimetype": "text/x-python",
   "name": "python",
   "nbconvert_exporter": "python",
   "pygments_lexer": "ipython2",
   "version": "2.7.6"
  }
 },
 "nbformat": 4,
 "nbformat_minor": 5
}
