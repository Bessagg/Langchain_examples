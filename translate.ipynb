{
 "cells": [
  {
   "metadata": {
    "ExecuteTime": {
     "end_time": "2025-03-05T21:01:01.098979Z",
     "start_time": "2025-03-05T21:01:01.092983Z"
    }
   },
   "cell_type": "code",
   "source": [
    "from IPython.display import display, HTML\n",
    "display(HTML(\"<style>div.jp-OutputArea-output pre {white-space: pre;}</style>\"))\n",
    "display(HTML(\"<style>pre { white-space: pre !important; }</style>\"))\n"
   ],
   "id": "e7b4409acc545d8d",
   "outputs": [
    {
     "data": {
      "text/plain": [
       "<IPython.core.display.HTML object>"
      ],
      "text/html": [
       "<style>div.jp-OutputArea-output pre {white-space: pre;}</style>"
      ]
     },
     "metadata": {},
     "output_type": "display_data"
    },
    {
     "data": {
      "text/plain": [
       "<IPython.core.display.HTML object>"
      ],
      "text/html": [
       "<style>pre { white-space: pre !important; }</style>"
      ]
     },
     "metadata": {},
     "output_type": "display_data"
    }
   ],
   "execution_count": 14
  },
  {
   "metadata": {
    "collapsed": true,
    "ExecuteTime": {
     "end_time": "2025-03-05T20:58:24.025677Z",
     "start_time": "2025-03-05T20:58:17.307534Z"
    }
   },
   "cell_type": "code",
   "source": [
    "# !python.exe -m pip install --upgrade pip\n",
    "# !pip install langchain\n",
    "# !pip install -U langchain langchain-openai\n",
    "# !pip install dotenv"
   ],
   "id": "initial_id",
   "outputs": [
    {
     "name": "stdout",
     "output_type": "stream",
     "text": [
      "Requirement already satisfied: pip in c:\\users\\rbess\\my drive\\pythonscripts2\\llm_chatbot\\.venv\\lib\\site-packages (25.0.1)\n",
      "Requirement already satisfied: langchain in c:\\users\\rbess\\my drive\\pythonscripts2\\llm_chatbot\\.venv\\lib\\site-packages (0.3.20)\n",
      "Requirement already satisfied: langchain-core<1.0.0,>=0.3.41 in c:\\users\\rbess\\my drive\\pythonscripts2\\llm_chatbot\\.venv\\lib\\site-packages (from langchain) (0.3.41)\n",
      "Requirement already satisfied: langchain-text-splitters<1.0.0,>=0.3.6 in c:\\users\\rbess\\my drive\\pythonscripts2\\llm_chatbot\\.venv\\lib\\site-packages (from langchain) (0.3.6)\n",
      "Requirement already satisfied: langsmith<0.4,>=0.1.17 in c:\\users\\rbess\\my drive\\pythonscripts2\\llm_chatbot\\.venv\\lib\\site-packages (from langchain) (0.3.11)\n",
      "Requirement already satisfied: pydantic<3.0.0,>=2.7.4 in c:\\users\\rbess\\my drive\\pythonscripts2\\llm_chatbot\\.venv\\lib\\site-packages (from langchain) (2.10.6)\n",
      "Requirement already satisfied: SQLAlchemy<3,>=1.4 in c:\\users\\rbess\\my drive\\pythonscripts2\\llm_chatbot\\.venv\\lib\\site-packages (from langchain) (2.0.38)\n",
      "Requirement already satisfied: requests<3,>=2 in c:\\users\\rbess\\my drive\\pythonscripts2\\llm_chatbot\\.venv\\lib\\site-packages (from langchain) (2.32.3)\n",
      "Requirement already satisfied: PyYAML>=5.3 in c:\\users\\rbess\\my drive\\pythonscripts2\\llm_chatbot\\.venv\\lib\\site-packages (from langchain) (6.0.2)\n",
      "Requirement already satisfied: tenacity!=8.4.0,<10.0.0,>=8.1.0 in c:\\users\\rbess\\my drive\\pythonscripts2\\llm_chatbot\\.venv\\lib\\site-packages (from langchain-core<1.0.0,>=0.3.41->langchain) (9.0.0)\n",
      "Requirement already satisfied: jsonpatch<2.0,>=1.33 in c:\\users\\rbess\\my drive\\pythonscripts2\\llm_chatbot\\.venv\\lib\\site-packages (from langchain-core<1.0.0,>=0.3.41->langchain) (1.33)\n",
      "Requirement already satisfied: packaging<25,>=23.2 in c:\\users\\rbess\\my drive\\pythonscripts2\\llm_chatbot\\.venv\\lib\\site-packages (from langchain-core<1.0.0,>=0.3.41->langchain) (24.2)\n",
      "Requirement already satisfied: typing-extensions>=4.7 in c:\\users\\rbess\\my drive\\pythonscripts2\\llm_chatbot\\.venv\\lib\\site-packages (from langchain-core<1.0.0,>=0.3.41->langchain) (4.12.2)\n",
      "Requirement already satisfied: httpx<1,>=0.23.0 in c:\\users\\rbess\\my drive\\pythonscripts2\\llm_chatbot\\.venv\\lib\\site-packages (from langsmith<0.4,>=0.1.17->langchain) (0.28.1)\n",
      "Requirement already satisfied: orjson<4.0.0,>=3.9.14 in c:\\users\\rbess\\my drive\\pythonscripts2\\llm_chatbot\\.venv\\lib\\site-packages (from langsmith<0.4,>=0.1.17->langchain) (3.10.15)\n",
      "Requirement already satisfied: requests-toolbelt<2.0.0,>=1.0.0 in c:\\users\\rbess\\my drive\\pythonscripts2\\llm_chatbot\\.venv\\lib\\site-packages (from langsmith<0.4,>=0.1.17->langchain) (1.0.0)\n",
      "Requirement already satisfied: zstandard<0.24.0,>=0.23.0 in c:\\users\\rbess\\my drive\\pythonscripts2\\llm_chatbot\\.venv\\lib\\site-packages (from langsmith<0.4,>=0.1.17->langchain) (0.23.0)\n",
      "Requirement already satisfied: annotated-types>=0.6.0 in c:\\users\\rbess\\my drive\\pythonscripts2\\llm_chatbot\\.venv\\lib\\site-packages (from pydantic<3.0.0,>=2.7.4->langchain) (0.7.0)\n",
      "Requirement already satisfied: pydantic-core==2.27.2 in c:\\users\\rbess\\my drive\\pythonscripts2\\llm_chatbot\\.venv\\lib\\site-packages (from pydantic<3.0.0,>=2.7.4->langchain) (2.27.2)\n",
      "Requirement already satisfied: charset-normalizer<4,>=2 in c:\\users\\rbess\\my drive\\pythonscripts2\\llm_chatbot\\.venv\\lib\\site-packages (from requests<3,>=2->langchain) (3.4.1)\n",
      "Requirement already satisfied: idna<4,>=2.5 in c:\\users\\rbess\\my drive\\pythonscripts2\\llm_chatbot\\.venv\\lib\\site-packages (from requests<3,>=2->langchain) (3.10)\n",
      "Requirement already satisfied: urllib3<3,>=1.21.1 in c:\\users\\rbess\\my drive\\pythonscripts2\\llm_chatbot\\.venv\\lib\\site-packages (from requests<3,>=2->langchain) (2.3.0)\n",
      "Requirement already satisfied: certifi>=2017.4.17 in c:\\users\\rbess\\my drive\\pythonscripts2\\llm_chatbot\\.venv\\lib\\site-packages (from requests<3,>=2->langchain) (2025.1.31)\n",
      "Requirement already satisfied: greenlet!=0.4.17 in c:\\users\\rbess\\my drive\\pythonscripts2\\llm_chatbot\\.venv\\lib\\site-packages (from SQLAlchemy<3,>=1.4->langchain) (3.1.1)\n",
      "Requirement already satisfied: anyio in c:\\users\\rbess\\my drive\\pythonscripts2\\llm_chatbot\\.venv\\lib\\site-packages (from httpx<1,>=0.23.0->langsmith<0.4,>=0.1.17->langchain) (4.8.0)\n",
      "Requirement already satisfied: httpcore==1.* in c:\\users\\rbess\\my drive\\pythonscripts2\\llm_chatbot\\.venv\\lib\\site-packages (from httpx<1,>=0.23.0->langsmith<0.4,>=0.1.17->langchain) (1.0.7)\n",
      "Requirement already satisfied: h11<0.15,>=0.13 in c:\\users\\rbess\\my drive\\pythonscripts2\\llm_chatbot\\.venv\\lib\\site-packages (from httpcore==1.*->httpx<1,>=0.23.0->langsmith<0.4,>=0.1.17->langchain) (0.14.0)\n",
      "Requirement already satisfied: jsonpointer>=1.9 in c:\\users\\rbess\\my drive\\pythonscripts2\\llm_chatbot\\.venv\\lib\\site-packages (from jsonpatch<2.0,>=1.33->langchain-core<1.0.0,>=0.3.41->langchain) (3.0.0)\n",
      "Requirement already satisfied: sniffio>=1.1 in c:\\users\\rbess\\my drive\\pythonscripts2\\llm_chatbot\\.venv\\lib\\site-packages (from anyio->httpx<1,>=0.23.0->langsmith<0.4,>=0.1.17->langchain) (1.3.1)\n",
      "Requirement already satisfied: langchain in c:\\users\\rbess\\my drive\\pythonscripts2\\llm_chatbot\\.venv\\lib\\site-packages (0.3.20)\n",
      "Requirement already satisfied: langchain-openai in c:\\users\\rbess\\my drive\\pythonscripts2\\llm_chatbot\\.venv\\lib\\site-packages (0.3.7)\n",
      "Requirement already satisfied: langchain-core<1.0.0,>=0.3.41 in c:\\users\\rbess\\my drive\\pythonscripts2\\llm_chatbot\\.venv\\lib\\site-packages (from langchain) (0.3.41)\n",
      "Requirement already satisfied: langchain-text-splitters<1.0.0,>=0.3.6 in c:\\users\\rbess\\my drive\\pythonscripts2\\llm_chatbot\\.venv\\lib\\site-packages (from langchain) (0.3.6)\n",
      "Requirement already satisfied: langsmith<0.4,>=0.1.17 in c:\\users\\rbess\\my drive\\pythonscripts2\\llm_chatbot\\.venv\\lib\\site-packages (from langchain) (0.3.11)\n",
      "Requirement already satisfied: pydantic<3.0.0,>=2.7.4 in c:\\users\\rbess\\my drive\\pythonscripts2\\llm_chatbot\\.venv\\lib\\site-packages (from langchain) (2.10.6)\n",
      "Requirement already satisfied: SQLAlchemy<3,>=1.4 in c:\\users\\rbess\\my drive\\pythonscripts2\\llm_chatbot\\.venv\\lib\\site-packages (from langchain) (2.0.38)\n",
      "Requirement already satisfied: requests<3,>=2 in c:\\users\\rbess\\my drive\\pythonscripts2\\llm_chatbot\\.venv\\lib\\site-packages (from langchain) (2.32.3)\n",
      "Requirement already satisfied: PyYAML>=5.3 in c:\\users\\rbess\\my drive\\pythonscripts2\\llm_chatbot\\.venv\\lib\\site-packages (from langchain) (6.0.2)\n",
      "Requirement already satisfied: openai<2.0.0,>=1.58.1 in c:\\users\\rbess\\my drive\\pythonscripts2\\llm_chatbot\\.venv\\lib\\site-packages (from langchain-openai) (1.65.3)\n",
      "Requirement already satisfied: tiktoken<1,>=0.7 in c:\\users\\rbess\\my drive\\pythonscripts2\\llm_chatbot\\.venv\\lib\\site-packages (from langchain-openai) (0.9.0)\n",
      "Requirement already satisfied: tenacity!=8.4.0,<10.0.0,>=8.1.0 in c:\\users\\rbess\\my drive\\pythonscripts2\\llm_chatbot\\.venv\\lib\\site-packages (from langchain-core<1.0.0,>=0.3.41->langchain) (9.0.0)\n",
      "Requirement already satisfied: jsonpatch<2.0,>=1.33 in c:\\users\\rbess\\my drive\\pythonscripts2\\llm_chatbot\\.venv\\lib\\site-packages (from langchain-core<1.0.0,>=0.3.41->langchain) (1.33)\n",
      "Requirement already satisfied: packaging<25,>=23.2 in c:\\users\\rbess\\my drive\\pythonscripts2\\llm_chatbot\\.venv\\lib\\site-packages (from langchain-core<1.0.0,>=0.3.41->langchain) (24.2)\n",
      "Requirement already satisfied: typing-extensions>=4.7 in c:\\users\\rbess\\my drive\\pythonscripts2\\llm_chatbot\\.venv\\lib\\site-packages (from langchain-core<1.0.0,>=0.3.41->langchain) (4.12.2)\n",
      "Requirement already satisfied: httpx<1,>=0.23.0 in c:\\users\\rbess\\my drive\\pythonscripts2\\llm_chatbot\\.venv\\lib\\site-packages (from langsmith<0.4,>=0.1.17->langchain) (0.28.1)\n",
      "Requirement already satisfied: orjson<4.0.0,>=3.9.14 in c:\\users\\rbess\\my drive\\pythonscripts2\\llm_chatbot\\.venv\\lib\\site-packages (from langsmith<0.4,>=0.1.17->langchain) (3.10.15)\n",
      "Requirement already satisfied: requests-toolbelt<2.0.0,>=1.0.0 in c:\\users\\rbess\\my drive\\pythonscripts2\\llm_chatbot\\.venv\\lib\\site-packages (from langsmith<0.4,>=0.1.17->langchain) (1.0.0)\n",
      "Requirement already satisfied: zstandard<0.24.0,>=0.23.0 in c:\\users\\rbess\\my drive\\pythonscripts2\\llm_chatbot\\.venv\\lib\\site-packages (from langsmith<0.4,>=0.1.17->langchain) (0.23.0)\n",
      "Requirement already satisfied: anyio<5,>=3.5.0 in c:\\users\\rbess\\my drive\\pythonscripts2\\llm_chatbot\\.venv\\lib\\site-packages (from openai<2.0.0,>=1.58.1->langchain-openai) (4.8.0)\n",
      "Requirement already satisfied: distro<2,>=1.7.0 in c:\\users\\rbess\\my drive\\pythonscripts2\\llm_chatbot\\.venv\\lib\\site-packages (from openai<2.0.0,>=1.58.1->langchain-openai) (1.9.0)\n",
      "Requirement already satisfied: jiter<1,>=0.4.0 in c:\\users\\rbess\\my drive\\pythonscripts2\\llm_chatbot\\.venv\\lib\\site-packages (from openai<2.0.0,>=1.58.1->langchain-openai) (0.8.2)\n",
      "Requirement already satisfied: sniffio in c:\\users\\rbess\\my drive\\pythonscripts2\\llm_chatbot\\.venv\\lib\\site-packages (from openai<2.0.0,>=1.58.1->langchain-openai) (1.3.1)\n",
      "Requirement already satisfied: tqdm>4 in c:\\users\\rbess\\my drive\\pythonscripts2\\llm_chatbot\\.venv\\lib\\site-packages (from openai<2.0.0,>=1.58.1->langchain-openai) (4.67.1)\n",
      "Requirement already satisfied: annotated-types>=0.6.0 in c:\\users\\rbess\\my drive\\pythonscripts2\\llm_chatbot\\.venv\\lib\\site-packages (from pydantic<3.0.0,>=2.7.4->langchain) (0.7.0)\n",
      "Requirement already satisfied: pydantic-core==2.27.2 in c:\\users\\rbess\\my drive\\pythonscripts2\\llm_chatbot\\.venv\\lib\\site-packages (from pydantic<3.0.0,>=2.7.4->langchain) (2.27.2)\n",
      "Requirement already satisfied: charset-normalizer<4,>=2 in c:\\users\\rbess\\my drive\\pythonscripts2\\llm_chatbot\\.venv\\lib\\site-packages (from requests<3,>=2->langchain) (3.4.1)\n",
      "Requirement already satisfied: idna<4,>=2.5 in c:\\users\\rbess\\my drive\\pythonscripts2\\llm_chatbot\\.venv\\lib\\site-packages (from requests<3,>=2->langchain) (3.10)\n",
      "Requirement already satisfied: urllib3<3,>=1.21.1 in c:\\users\\rbess\\my drive\\pythonscripts2\\llm_chatbot\\.venv\\lib\\site-packages (from requests<3,>=2->langchain) (2.3.0)\n",
      "Requirement already satisfied: certifi>=2017.4.17 in c:\\users\\rbess\\my drive\\pythonscripts2\\llm_chatbot\\.venv\\lib\\site-packages (from requests<3,>=2->langchain) (2025.1.31)\n",
      "Requirement already satisfied: greenlet!=0.4.17 in c:\\users\\rbess\\my drive\\pythonscripts2\\llm_chatbot\\.venv\\lib\\site-packages (from SQLAlchemy<3,>=1.4->langchain) (3.1.1)\n",
      "Requirement already satisfied: regex>=2022.1.18 in c:\\users\\rbess\\my drive\\pythonscripts2\\llm_chatbot\\.venv\\lib\\site-packages (from tiktoken<1,>=0.7->langchain-openai) (2024.11.6)\n",
      "Requirement already satisfied: httpcore==1.* in c:\\users\\rbess\\my drive\\pythonscripts2\\llm_chatbot\\.venv\\lib\\site-packages (from httpx<1,>=0.23.0->langsmith<0.4,>=0.1.17->langchain) (1.0.7)\n",
      "Requirement already satisfied: h11<0.15,>=0.13 in c:\\users\\rbess\\my drive\\pythonscripts2\\llm_chatbot\\.venv\\lib\\site-packages (from httpcore==1.*->httpx<1,>=0.23.0->langsmith<0.4,>=0.1.17->langchain) (0.14.0)\n",
      "Requirement already satisfied: jsonpointer>=1.9 in c:\\users\\rbess\\my drive\\pythonscripts2\\llm_chatbot\\.venv\\lib\\site-packages (from jsonpatch<2.0,>=1.33->langchain-core<1.0.0,>=0.3.41->langchain) (3.0.0)\n",
      "Requirement already satisfied: colorama in c:\\users\\rbess\\my drive\\pythonscripts2\\llm_chatbot\\.venv\\lib\\site-packages (from tqdm>4->openai<2.0.0,>=1.58.1->langchain-openai) (0.4.6)\n",
      "Requirement already satisfied: dotenv in c:\\users\\rbess\\my drive\\pythonscripts2\\llm_chatbot\\.venv\\lib\\site-packages (0.9.9)\n",
      "Requirement already satisfied: python-dotenv in c:\\users\\rbess\\my drive\\pythonscripts2\\llm_chatbot\\.venv\\lib\\site-packages (from dotenv) (1.0.1)\n"
     ]
    }
   ],
   "execution_count": 6
  },
  {
   "metadata": {
    "ExecuteTime": {
     "end_time": "2025-03-05T20:58:46.734405Z",
     "start_time": "2025-03-05T20:58:46.729777Z"
    }
   },
   "cell_type": "code",
   "source": [
    "from dotenv import load_dotenv\n",
    "import os\n",
    "load_dotenv()  # Load .env file\n",
    "LANGSMITH_TRACING=True\n",
    "LANGSMITH_ENDPOINT=\"https://api.smith.langchain.com\"\n",
    "LANGSMITH_API_KEY=os.getenv('LANGSMITH_API_KEY')\n",
    "LANGSMITH_PROJECT=\"pr-chatbot\"\n",
    "OPENAI_API_KEY=os.getenv('OPENAI_API_KEY')"
   ],
   "id": "8ba27acb95f60a3",
   "outputs": [],
   "execution_count": 7
  },
  {
   "metadata": {
    "ExecuteTime": {
     "end_time": "2025-03-05T21:01:45.575257Z",
     "start_time": "2025-03-05T21:01:43.985069Z"
    }
   },
   "cell_type": "code",
   "source": [
    "from langchain_openai import ChatOpenAI\n",
    "llm = ChatOpenAI()\n",
    "llm.invoke(\"Hello, world!\")"
   ],
   "id": "a1ddf5b87c681f04",
   "outputs": [
    {
     "data": {
      "text/plain": [
       "AIMessage(content='Hello! How may I assist you today?', additional_kwargs={'refusal': None}, response_metadata={'token_usage': {'completion_tokens': 10, 'prompt_tokens': 11, 'total_tokens': 21, 'completion_tokens_details': {'accepted_prediction_tokens': 0, 'audio_tokens': 0, 'reasoning_tokens': 0, 'rejected_prediction_tokens': 0}, 'prompt_tokens_details': {'audio_tokens': 0, 'cached_tokens': 0}}, 'model_name': 'gpt-3.5-turbo-0125', 'system_fingerprint': None, 'finish_reason': 'stop', 'logprobs': None}, id='run-d632672d-9958-45d0-ae5a-20ae9041f0cd-0', usage_metadata={'input_tokens': 11, 'output_tokens': 10, 'total_tokens': 21, 'input_token_details': {'audio': 0, 'cache_read': 0}, 'output_token_details': {'audio': 0, 'reasoning': 0}})"
      ]
     },
     "execution_count": 18,
     "metadata": {},
     "output_type": "execute_result"
    }
   ],
   "execution_count": 18
  },
  {
   "metadata": {},
   "cell_type": "markdown",
   "source": "# Prompt Template - Translate",
   "id": "8eed6665028b2a16"
  },
  {
   "metadata": {
    "ExecuteTime": {
     "end_time": "2025-03-05T20:59:11.097271Z",
     "start_time": "2025-03-05T20:59:11.092889Z"
    }
   },
   "cell_type": "code",
   "source": [
    "from langchain_core.prompts import ChatPromptTemplate\n",
    "\n",
    "system_template = \"Translate the following from English into {language}\"\n",
    "\n",
    "prompt_template = ChatPromptTemplate.from_messages(\n",
    "    [(\"system\", system_template), (\"user\", \"{text}\")]\n",
    ")"
   ],
   "id": "3b516bb067803747",
   "outputs": [],
   "execution_count": 11
  },
  {
   "metadata": {
    "ExecuteTime": {
     "end_time": "2025-03-05T21:19:57.302103Z",
     "start_time": "2025-03-05T21:19:57.297167Z"
    }
   },
   "cell_type": "code",
   "source": [
    "prompt = prompt_template.invoke({\"language\": \"Italian\", \"text\": \"hi! How are you?\"})\n",
    "\n",
    "prompt"
   ],
   "id": "e4f3c5231c0947ee",
   "outputs": [
    {
     "data": {
      "text/plain": [
       "ChatPromptValue(messages=[SystemMessage(content='Translate the following from English into Italian', additional_kwargs={}, response_metadata={}), HumanMessage(content='hi! How are you?', additional_kwargs={}, response_metadata={})])"
      ]
     },
     "execution_count": 19,
     "metadata": {},
     "output_type": "execute_result"
    }
   ],
   "execution_count": 19
  },
  {
   "metadata": {
    "ExecuteTime": {
     "end_time": "2025-03-05T21:22:56.349465Z",
     "start_time": "2025-03-05T21:22:56.346462Z"
    }
   },
   "cell_type": "code",
   "source": "messages = prompt.to_messages()",
   "id": "cd22d1b9156aef3c",
   "outputs": [],
   "execution_count": 21
  },
  {
   "metadata": {
    "ExecuteTime": {
     "end_time": "2025-03-05T21:23:24.035280Z",
     "start_time": "2025-03-05T21:23:23.570985Z"
    }
   },
   "cell_type": "code",
   "source": [
    "# Send the messages to your model for generating a response\n",
    "response = llm(messages)\n",
    "\n",
    "# Print out the model's response\n",
    "print(response)\n",
    "print(\"\\n\", response.content)"
   ],
   "id": "24044a6b72173635",
   "outputs": [
    {
     "name": "stdout",
     "output_type": "stream",
     "text": [
      "content='Ciao! Come stai?' additional_kwargs={'refusal': None} response_metadata={'token_usage': {'completion_tokens': 8, 'prompt_tokens': 24, 'total_tokens': 32, 'completion_tokens_details': {'accepted_prediction_tokens': 0, 'audio_tokens': 0, 'reasoning_tokens': 0, 'rejected_prediction_tokens': 0}, 'prompt_tokens_details': {'audio_tokens': 0, 'cached_tokens': 0}}, 'model_name': 'gpt-3.5-turbo-0125', 'system_fingerprint': None, 'finish_reason': 'stop', 'logprobs': None} id='run-3b1714f2-6c3a-42a0-a375-005b81cead15-0' usage_metadata={'input_tokens': 24, 'output_tokens': 8, 'total_tokens': 32, 'input_token_details': {'audio': 0, 'cache_read': 0}, 'output_token_details': {'audio': 0, 'reasoning': 0}}\n",
      "\n",
      " Ciao! Come stai?\n"
     ]
    }
   ],
   "execution_count": 24
  },
  {
   "metadata": {},
   "cell_type": "code",
   "outputs": [],
   "execution_count": null,
   "source": "",
   "id": "43c7a79eaef53376"
  }
 ],
 "metadata": {
  "kernelspec": {
   "display_name": "Python 3",
   "language": "python",
   "name": "python3"
  },
  "language_info": {
   "codemirror_mode": {
    "name": "ipython",
    "version": 2
   },
   "file_extension": ".py",
   "mimetype": "text/x-python",
   "name": "python",
   "nbconvert_exporter": "python",
   "pygments_lexer": "ipython2",
   "version": "2.7.6"
  }
 },
 "nbformat": 4,
 "nbformat_minor": 5
}
